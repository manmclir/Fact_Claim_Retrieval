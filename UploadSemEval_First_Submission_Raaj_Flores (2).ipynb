{
  "cells": [
    {
      "cell_type": "code",
      "source": [
        "!pip install sentence_transformers\n",
        "!pip install faiss-gpu"
      ],
      "metadata": {
        "colab": {
          "base_uri": "https://localhost:8080/"
        },
        "collapsed": true,
        "id": "Vi2QM7mDQRY9",
        "outputId": "c8f6446e-377a-4896-a564-19fbfd6070d1"
      },
      "id": "Vi2QM7mDQRY9",
      "execution_count": null,
      "outputs": [
        {
          "output_type": "stream",
          "name": "stdout",
          "text": [
            "Requirement already satisfied: sentence_transformers in /usr/local/lib/python3.10/dist-packages (3.2.1)\n",
            "Requirement already satisfied: transformers<5.0.0,>=4.41.0 in /usr/local/lib/python3.10/dist-packages (from sentence_transformers) (4.46.3)\n",
            "Requirement already satisfied: tqdm in /usr/local/lib/python3.10/dist-packages (from sentence_transformers) (4.66.6)\n",
            "Requirement already satisfied: torch>=1.11.0 in /usr/local/lib/python3.10/dist-packages (from sentence_transformers) (2.5.1+cu121)\n",
            "Requirement already satisfied: scikit-learn in /usr/local/lib/python3.10/dist-packages (from sentence_transformers) (1.5.2)\n",
            "Requirement already satisfied: scipy in /usr/local/lib/python3.10/dist-packages (from sentence_transformers) (1.13.1)\n",
            "Requirement already satisfied: huggingface-hub>=0.20.0 in /usr/local/lib/python3.10/dist-packages (from sentence_transformers) (0.26.3)\n",
            "Requirement already satisfied: Pillow in /usr/local/lib/python3.10/dist-packages (from sentence_transformers) (11.0.0)\n",
            "Requirement already satisfied: filelock in /usr/local/lib/python3.10/dist-packages (from huggingface-hub>=0.20.0->sentence_transformers) (3.16.1)\n",
            "Requirement already satisfied: fsspec>=2023.5.0 in /usr/local/lib/python3.10/dist-packages (from huggingface-hub>=0.20.0->sentence_transformers) (2024.10.0)\n",
            "Requirement already satisfied: packaging>=20.9 in /usr/local/lib/python3.10/dist-packages (from huggingface-hub>=0.20.0->sentence_transformers) (24.2)\n",
            "Requirement already satisfied: pyyaml>=5.1 in /usr/local/lib/python3.10/dist-packages (from huggingface-hub>=0.20.0->sentence_transformers) (6.0.2)\n",
            "Requirement already satisfied: requests in /usr/local/lib/python3.10/dist-packages (from huggingface-hub>=0.20.0->sentence_transformers) (2.32.3)\n",
            "Requirement already satisfied: typing-extensions>=3.7.4.3 in /usr/local/lib/python3.10/dist-packages (from huggingface-hub>=0.20.0->sentence_transformers) (4.12.2)\n",
            "Requirement already satisfied: networkx in /usr/local/lib/python3.10/dist-packages (from torch>=1.11.0->sentence_transformers) (3.4.2)\n",
            "Requirement already satisfied: jinja2 in /usr/local/lib/python3.10/dist-packages (from torch>=1.11.0->sentence_transformers) (3.1.4)\n",
            "Requirement already satisfied: sympy==1.13.1 in /usr/local/lib/python3.10/dist-packages (from torch>=1.11.0->sentence_transformers) (1.13.1)\n",
            "Requirement already satisfied: mpmath<1.4,>=1.1.0 in /usr/local/lib/python3.10/dist-packages (from sympy==1.13.1->torch>=1.11.0->sentence_transformers) (1.3.0)\n",
            "Requirement already satisfied: numpy>=1.17 in /usr/local/lib/python3.10/dist-packages (from transformers<5.0.0,>=4.41.0->sentence_transformers) (1.26.4)\n",
            "Requirement already satisfied: regex!=2019.12.17 in /usr/local/lib/python3.10/dist-packages (from transformers<5.0.0,>=4.41.0->sentence_transformers) (2024.9.11)\n",
            "Requirement already satisfied: tokenizers<0.21,>=0.20 in /usr/local/lib/python3.10/dist-packages (from transformers<5.0.0,>=4.41.0->sentence_transformers) (0.20.3)\n",
            "Requirement already satisfied: safetensors>=0.4.1 in /usr/local/lib/python3.10/dist-packages (from transformers<5.0.0,>=4.41.0->sentence_transformers) (0.4.5)\n",
            "Requirement already satisfied: joblib>=1.2.0 in /usr/local/lib/python3.10/dist-packages (from scikit-learn->sentence_transformers) (1.4.2)\n",
            "Requirement already satisfied: threadpoolctl>=3.1.0 in /usr/local/lib/python3.10/dist-packages (from scikit-learn->sentence_transformers) (3.5.0)\n",
            "Requirement already satisfied: MarkupSafe>=2.0 in /usr/local/lib/python3.10/dist-packages (from jinja2->torch>=1.11.0->sentence_transformers) (3.0.2)\n",
            "Requirement already satisfied: charset-normalizer<4,>=2 in /usr/local/lib/python3.10/dist-packages (from requests->huggingface-hub>=0.20.0->sentence_transformers) (3.4.0)\n",
            "Requirement already satisfied: idna<4,>=2.5 in /usr/local/lib/python3.10/dist-packages (from requests->huggingface-hub>=0.20.0->sentence_transformers) (3.10)\n",
            "Requirement already satisfied: urllib3<3,>=1.21.1 in /usr/local/lib/python3.10/dist-packages (from requests->huggingface-hub>=0.20.0->sentence_transformers) (2.2.3)\n",
            "Requirement already satisfied: certifi>=2017.4.17 in /usr/local/lib/python3.10/dist-packages (from requests->huggingface-hub>=0.20.0->sentence_transformers) (2024.8.30)\n",
            "Collecting faiss-gpu\n",
            "  Downloading faiss_gpu-1.7.2-cp310-cp310-manylinux_2_17_x86_64.manylinux2014_x86_64.whl.metadata (1.4 kB)\n",
            "Downloading faiss_gpu-1.7.2-cp310-cp310-manylinux_2_17_x86_64.manylinux2014_x86_64.whl (85.5 MB)\n",
            "\u001b[2K   \u001b[90m━━━━━━━━━━━━━━━━━━━━━━━━━━━━━━━━━━━━━━━━\u001b[0m \u001b[32m85.5/85.5 MB\u001b[0m \u001b[31m8.1 MB/s\u001b[0m eta \u001b[36m0:00:00\u001b[0m\n",
            "\u001b[?25hInstalling collected packages: faiss-gpu\n",
            "Successfully installed faiss-gpu-1.7.2\n"
          ]
        }
      ]
    },
    {
      "cell_type": "code",
      "source": [
        "from google.colab import drive\n",
        "drive.mount('/content/drive')"
      ],
      "metadata": {
        "colab": {
          "base_uri": "https://localhost:8080/"
        },
        "id": "JDQPlGoJQkRu",
        "outputId": "7a582d67-4b43-47ab-c1bd-c5fe9d209c79"
      },
      "id": "JDQPlGoJQkRu",
      "execution_count": null,
      "outputs": [
        {
          "output_type": "stream",
          "name": "stdout",
          "text": [
            "Mounted at /content/drive\n"
          ]
        }
      ]
    },
    {
      "cell_type": "code",
      "execution_count": null,
      "id": "adcc5996-56e2-408d-89af-9a81dfb9c6b7",
      "metadata": {
        "colab": {
          "base_uri": "https://localhost:8080/"
        },
        "id": "adcc5996-56e2-408d-89af-9a81dfb9c6b7",
        "outputId": "982033fd-618a-4da5-d152-9a39c6967047"
      },
      "outputs": [
        {
          "output_type": "stream",
          "name": "stderr",
          "text": [
            "/usr/local/lib/python3.10/dist-packages/sentence_transformers/cross_encoder/CrossEncoder.py:13: TqdmExperimentalWarning: Using `tqdm.autonotebook.tqdm` in notebook mode. Use `tqdm.tqdm` instead to force console mode (e.g. in jupyter console)\n",
            "  from tqdm.autonotebook import tqdm, trange\n"
          ]
        }
      ],
      "source": [
        "import pandas as pd\n",
        "import numpy as np\n",
        "import matplotlib.pyplot as plt\n",
        "from sentence_transformers import SentenceTransformer\n",
        "import ast\n",
        "import faiss\n",
        "import torch\n",
        "import os"
      ]
    },
    {
      "cell_type": "code",
      "source": [
        "device = 'cuda' if torch.cuda.is_available() else 'cpu'"
      ],
      "metadata": {
        "id": "opsloq7avl49"
      },
      "id": "opsloq7avl49",
      "execution_count": null,
      "outputs": []
    },
    {
      "cell_type": "code",
      "execution_count": null,
      "id": "da9f0885-d408-47c6-a883-636ff4cc831e",
      "metadata": {
        "id": "da9f0885-d408-47c6-a883-636ff4cc831e"
      },
      "outputs": [],
      "source": [
        "def get_embedding(model_name, text):\n",
        "    model = SentenceTransformer(model_name)\n",
        "    embeddings = model.encode(text)\n",
        "    return embeddings"
      ]
    },
    {
      "cell_type": "code",
      "execution_count": null,
      "id": "642421c5-4af0-4b69-aead-f2cf3270a302",
      "metadata": {
        "id": "642421c5-4af0-4b69-aead-f2cf3270a302"
      },
      "outputs": [],
      "source": [
        "def get_fact_text(fact):\n",
        "    fact_list = []\n",
        "    for row in fact.itertuples(index=True, name='Pandas'):\n",
        "        val = getattr(row, 'claim')\n",
        "        tuple_data = ast.literal_eval(val)\n",
        "        fact_list.append(tuple_data[1])\n",
        "    return fact_list"
      ]
    },
    {
      "cell_type": "code",
      "execution_count": null,
      "id": "790b888c-efc2-4907-a5b8-b6c5f7120753",
      "metadata": {
        "id": "790b888c-efc2-4907-a5b8-b6c5f7120753"
      },
      "outputs": [],
      "source": [
        "def get_post_text(post, col_name):\n",
        "    post_text = []\n",
        "\n",
        "    if col_name == 'ocr':\n",
        "        for row in post.itertuples(index=True, name='Pandas'):\n",
        "            val = getattr(row, col_name)\n",
        "            q = ast.literal_eval(val)\n",
        "            if not val or not q:\n",
        "                post_text.append('')\n",
        "            else:\n",
        "                tup = q[0]\n",
        "                post_text.append(tup[1])\n",
        "\n",
        "    elif col_name == 'text':\n",
        "        for row in post.itertuples(index=True, name='Pandas'):\n",
        "            val = getattr(row, col_name)\n",
        "            if not val:\n",
        "                post_text.append('')\n",
        "            else:\n",
        "                #print(val)\n",
        "                q = ast.literal_eval(val)\n",
        "                post_text.append(q[1])\n",
        "    return post_text"
      ]
    },
    {
      "cell_type": "code",
      "execution_count": null,
      "id": "d41561be-1db7-458d-9d8f-69078438a516",
      "metadata": {
        "id": "d41561be-1db7-458d-9d8f-69078438a516"
      },
      "outputs": [],
      "source": [
        "def sep_empty(post, col_name):\n",
        "    empty_num = 0\n",
        "    sep_row = []\n",
        "    for row in post.itertuples(index=True, name='Pandas'):\n",
        "        val = getattr(row, col_name)\n",
        "        if not val or val == '[]':\n",
        "            empty_num += 1\n",
        "        else:\n",
        "            sep_row.append(row._asdict())\n",
        "\n",
        "    sep_df = pd.DataFrame(sep_row)\n",
        "    return sep_df"
      ]
    },
    {
      "cell_type": "code",
      "execution_count": null,
      "id": "311395c2-717f-4006-9243-47026fdc69e2",
      "metadata": {
        "id": "311395c2-717f-4006-9243-47026fdc69e2"
      },
      "outputs": [],
      "source": [
        "def clean_Nan(post, col_name):\n",
        "    post_cleaned = post.copy()\n",
        "    post_cleaned[col_name] = post_cleaned[col_name].fillna(\"\")\n",
        "\n",
        "    return post_cleaned"
      ]
    },
    {
      "cell_type": "code",
      "execution_count": null,
      "id": "9aa28b7f-c4a6-402e-aaf8-538881cd53d0",
      "metadata": {
        "id": "9aa28b7f-c4a6-402e-aaf8-538881cd53d0"
      },
      "outputs": [],
      "source": [
        "def get_embeddings_in_batches(model, texts, batch_size=512):\n",
        "    \"\"\"Generate embeddings for a list of texts using batch processing.\"\"\"\n",
        "    embeddings = []\n",
        "    for i in range(0, len(texts), batch_size):\n",
        "        batch_texts = texts[i:i + batch_size]\n",
        "        with torch.cuda.amp.autocast(enabled=True):  # Mixed precision\n",
        "            batch_embeddings = model.encode(batch_texts, convert_to_tensor=False, device=device)\n",
        "        embeddings.append(batch_embeddings)\n",
        "    return np.vstack(embeddings)"
      ]
    },
    {
      "cell_type": "code",
      "source": [
        "def build_faiss_index(embeddings):\n",
        "    \"\"\"Build a FAISS index for fast similarity search.\"\"\"\n",
        "    dimension = embeddings.shape[1]\n",
        "    index = faiss.IndexFlatIP(dimension)  # Inner product (for cosine similarity)\n",
        "    faiss.normalize_L2(embeddings)       # Normalize embeddings for cosine similarity\n",
        "    index.add(embeddings)\n",
        "    return index"
      ],
      "metadata": {
        "id": "rbKF9j90vYu_"
      },
      "id": "rbKF9j90vYu_",
      "execution_count": null,
      "outputs": []
    },
    {
      "cell_type": "code",
      "source": [
        "def search_faiss(index, query_embeddings, top_k=10):\n",
        "    \"\"\"Search FAISS index with query embeddings.\"\"\"\n",
        "    faiss.normalize_L2(query_embeddings)\n",
        "    distances, indices = index.search(query_embeddings, top_k)\n",
        "    return distances, indices"
      ],
      "metadata": {
        "id": "sqPm7zctvbZS"
      },
      "id": "sqPm7zctvbZS",
      "execution_count": null,
      "outputs": []
    },
    {
      "cell_type": "code",
      "source": [
        "def visualize_metrics(mrr, success_at_k, k_values):\n",
        "    \"\"\"\n",
        "    Visualize MRR and Success@k as bar plots and line charts.\n",
        "\n",
        "    Parameters:\n",
        "        mrr (float): Mean Reciprocal Rank.\n",
        "        success_at_k (dict): Dictionary with k values as keys and Success@k as values.\n",
        "        k_values (list): List of k values used for evaluation.\n",
        "    \"\"\"\n",
        "    import matplotlib.pyplot as plt\n",
        "\n",
        "    # Bar plot for Success@k\n",
        "    success_values = [success_at_k[k] for k in k_values]\n",
        "    plt.figure(figsize=(10, 6))\n",
        "    plt.bar([str(k) for k in k_values], success_values, color='skyblue')\n",
        "    plt.title('Success@k for Different k Values')\n",
        "    plt.xlabel('k')\n",
        "    plt.ylabel('Success@k')\n",
        "    plt.ylim(0, 1)\n",
        "    plt.grid(axis='y', linestyle='--', alpha=0.7)\n",
        "    plt.show()\n",
        "\n",
        "    # Line plot for MRR\n",
        "    plt.figure(figsize=(10, 6))\n",
        "    plt.plot(k_values, success_values, marker='o', color='orange', label='Success@k')\n",
        "    plt.axhline(y=mrr, color='green', linestyle='--', label=f'MRR: {mrr:.4f}')\n",
        "    plt.title('MRR and Success@k Trends')\n",
        "    plt.xlabel('k')\n",
        "    plt.ylabel('Metric Value')\n",
        "    plt.legend()\n",
        "    plt.grid(alpha=0.7)\n",
        "    plt.show()\n"
      ],
      "metadata": {
        "id": "ksvA3UcdO7qn"
      },
      "id": "ksvA3UcdO7qn",
      "execution_count": null,
      "outputs": []
    },
    {
      "cell_type": "markdown",
      "source": [
        "Modified Pipeline with Success"
      ],
      "metadata": {
        "id": "ETUqD84bFxt4"
      },
      "id": "ETUqD84bFxt4"
    },
    {
      "cell_type": "code",
      "source": [
        "def pipeline(posts_file, fact_checks_file, pairs_file, batch_size=512, model_name='sentence-transformers/all-MiniLM-L6-v2', use_ocr=True, use_txt=True, k_values=None):\n",
        "    #model_name = 'sentence-transformers/distiluse-base-multilingual-cased-v1'\n",
        "\n",
        "    if k_values is None:\n",
        "        k_values = [1, 5, 10, 20, 50, 100, 1000]  # Default values for k\n",
        "\n",
        "    device = 'cuda' if torch.cuda.is_available() else 'cpu'\n",
        "\n",
        "    post = pd.read_csv(posts_file)\n",
        "    fact = pd.read_csv(fact_checks_file)\n",
        "    pairs = pd.read_csv(pairs_file)\n",
        "\n",
        "    fact_list = get_fact_text(fact)\n",
        "    combined = False\n",
        "    if use_ocr and use_txt:\n",
        "        clean_ocr = clean_Nan(post,'ocr')\n",
        "        clean_text = clean_Nan(post,'text')\n",
        "\n",
        "        ocr_list = get_post_text(clean_ocr,'ocr')\n",
        "        text_list = get_post_text(clean_text,'text')\n",
        "\n",
        "        post_list = [f\"{a}{' ' if a and b else ''}{b}\" for a, b in zip(ocr_list, text_list)]\n",
        "        combined = True\n",
        "\n",
        "    elif use_ocr:\n",
        "        clean_ocr = clean_Nan(post,'ocr')\n",
        "        sep_ocr = sep_empty(clean_ocr,'ocr')\n",
        "        post_list = get_post_text(sep_ocr,'ocr')\n",
        "\n",
        "    elif use_txt:\n",
        "        clean_text = clean_Nan(post,'text')\n",
        "        sep_text = sep_empty(clean_text,'text')\n",
        "        post_list = get_post_text(sep_text,'text')\n",
        "    #model_name = 'sentence-transformers/distiluse-base-multilingual-cased-v1'\n",
        "    # Load model\n",
        "    model = SentenceTransformer(model_name, device=device)\n",
        "\n",
        "    print(\"Generating fact embeddings...\")\n",
        "    fact_embeddings = get_embeddings_in_batches(model, fact_list, batch_size=batch_size)\n",
        "    #fact_embeddings = get_embedding(model_name, fact_list)\n",
        "\n",
        "\n",
        "    print(\"Generating post embeddings...\")\n",
        "    post_embeddings = get_embeddings_in_batches(model, post_list, batch_size=batch_size)\n",
        "    #post_embeddings = get_embedding(model_name, post_list)\n",
        "\n",
        "    # Build FAISS index for fact embeddings\n",
        "    print(\"Building FAISS index...\")\n",
        "    index = build_faiss_index(fact_embeddings)\n",
        "\n",
        "    # Search for top-k similar fact-checks for each post\n",
        "    print(\"Performing FAISS search...\")\n",
        "    top_k = max(k_values) if k_values else 1000\n",
        "    distances, indices = search_faiss(index, post_embeddings, top_k)\n",
        "\n",
        "    # Map results back to DataFrame for evaluation\n",
        "    results = []\n",
        "    for i, (dists, idxs) in enumerate(zip(distances, indices)):\n",
        "        post_id = post.iloc[i]['post_id']\n",
        "        for dist, idx in zip(dists, idxs):\n",
        "            fact_check_id = fact.iloc[idx]['fact_check_id']\n",
        "            results.append({'post_id': post_id, 'fact_check_id': fact_check_id, 'similarity': dist})\n",
        "\n",
        "    results_df = pd.DataFrame(results)\n",
        "    print(len(results_df))\n",
        "    print(len(post))\n",
        "\n",
        "\n",
        "    # Evaluate performance using MRR\n",
        "    print(\"Evaluating MRR...\")\n",
        "    mrr = 0\n",
        "    mrr_num = 0\n",
        "    index_error_num = 0\n",
        "    for i, row in pairs.iterrows():\n",
        "        correct_fact_id = row['fact_check_id']\n",
        "        post_id = row['post_id']\n",
        "        top_results = results_df[results_df['post_id'] == post_id]\n",
        "        try:\n",
        "            rank = top_results[top_results['fact_check_id'] == correct_fact_id].index[0] + 1\n",
        "            mrr += 1 / rank\n",
        "            mrr_num += 1\n",
        "        except IndexError:\n",
        "            index_error_num += 1\n",
        "            continue\n",
        "    mrr /= len(pairs)\n",
        "    print(f\"Mean Reciprocal Rank (MRR): {mrr:.4f}\")\n",
        "    print('mrr num')\n",
        "    print(mrr_num)\n",
        "    print('index error num')\n",
        "    print(index_error_num)\n",
        "\n",
        "    # Evaluate Success@k\n",
        "    if k_values is None:\n",
        "        k_values = [1, 5, 10, 20, 50, 100, 1000]  # Default k values\n",
        "\n",
        "    print(\"Evaluating Success@k...\")\n",
        "    success_at_k = {}\n",
        "\n",
        "    for k in k_values:\n",
        "        success = 0\n",
        "        total_queries = 0\n",
        "\n",
        "        for _, row in pairs.iterrows():\n",
        "            correct_fact_id = row['fact_check_id']\n",
        "            post_id = row['post_id']\n",
        "            top_results = results_df[results_df['post_id'] == post_id].head(k)\n",
        "\n",
        "            if correct_fact_id in top_results['fact_check_id'].values:\n",
        "                success += 1\n",
        "\n",
        "            total_queries += 1\n",
        "\n",
        "        success_at_k[k] = success / total_queries if total_queries else 0\n",
        "\n",
        "    # Print Success@k results\n",
        "    print(\"Success@k Results:\")\n",
        "    for k in k_values:\n",
        "        print(f\"Success@{k}: {success_at_k[k]:.4f}\")\n",
        "\n",
        "\n",
        "    visualize_metrics(mrr, success_at_k, k_values)\n",
        "\n",
        "\n",
        "    # Save results\n",
        "    results_df.to_csv(\"faiss_results_full.csv\", index=False)\n",
        "    print(\"Results saved to faiss_results_full.csv\")\n",
        "\n",
        "\n"
      ],
      "metadata": {
        "id": "VzXo4LkgF1oA"
      },
      "id": "VzXo4LkgF1oA",
      "execution_count": null,
      "outputs": []
    },
    {
      "cell_type": "code",
      "execution_count": null,
      "id": "22b0ee1b-1be4-4213-8676-6350eb227c26",
      "metadata": {
        "colab": {
          "base_uri": "https://localhost:8080/",
          "height": 1000
        },
        "id": "22b0ee1b-1be4-4213-8676-6350eb227c26",
        "outputId": "4a3eea22-98a8-4dea-a335-00207578f531"
      },
      "outputs": [
        {
          "output_type": "stream",
          "name": "stdout",
          "text": [
            "Generating fact embeddings...\n"
          ]
        },
        {
          "output_type": "stream",
          "name": "stderr",
          "text": [
            "<ipython-input-31-acb4b98c96a3>:6: FutureWarning: `torch.cuda.amp.autocast(args...)` is deprecated. Please use `torch.amp.autocast('cuda', args...)` instead.\n",
            "  with torch.cuda.amp.autocast(enabled=True):  # Mixed precision\n"
          ]
        },
        {
          "output_type": "stream",
          "name": "stdout",
          "text": [
            "Generating post embeddings...\n",
            "Building FAISS index...\n",
            "Performing FAISS search...\n",
            "24431000\n",
            "24431\n",
            "Evaluating MRR...\n",
            "Mean Reciprocal Rank (MRR): 0.0000\n",
            "mrr num\n",
            "23080\n",
            "index error num\n",
            "2663\n",
            "Evaluating Success@k...\n",
            "Success@k Results:\n",
            "Success@1: 0.2511\n",
            "Success@5: 0.5172\n",
            "Success@10: 0.6125\n",
            "Success@100: 0.7916\n",
            "Success@1000: 0.8966\n"
          ]
        },
        {
          "output_type": "display_data",
          "data": {
            "text/plain": [
              "<Figure size 1000x600 with 1 Axes>"
            ],
            "image/png": "[encoded data removed]"
          },
          "metadata": {}
        },
        {
          "output_type": "display_data",
          "data": {
            "text/plain": [
              "<Figure size 1000x600 with 1 Axes>"
            ],
            "image/png": "[encoded data removed]"
          },
          "metadata": {}
        },
        {
          "output_type": "stream",
          "name": "stdout",
          "text": [
            "Results saved to faiss_results_full.csv\n"
          ]
        }
      ],
      "source": [
        "posts_file = 'drive/MyDrive/Sem_Sim_proj/posts.csv'\n",
        "fact_checks_file = 'drive/MyDrive/Sem_Sim_proj/fact_checks.csv'\n",
        "pairs_file = 'drive/MyDrive/Sem_Sim_proj/pairs.csv'\n",
        "k_values = [1, 5, 10, 100, 1000]\n",
        "pipeline(posts_file, fact_checks_file, pairs_file, use_txt=True, use_ocr=True, k_values=k_values)"
      ]
    }
  ],
  "metadata": {
    "kernelspec": {
      "display_name": "Python 3",
      "name": "python3"
    },
    "language_info": {
      "codemirror_mode": {
        "name": "ipython",
        "version": 3
      },
      "file_extension": ".py",
      "mimetype": "text/x-python",
      "name": "python",
      "nbconvert_exporter": "python",
      "pygments_lexer": "ipython3",
      "version": "3.12.3"
    },
    "colab": {
      "provenance": [],
      "gpuType": "T4"
    },
    "accelerator": "GPU"
  },
  "nbformat": 4,
  "nbformat_minor": 5
}